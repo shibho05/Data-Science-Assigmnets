{
 "cells": [
  {
   "cell_type": "markdown",
   "id": "538429ee",
   "metadata": {},
   "source": [
    "# Data Science Tools and Ecosystem"
   ]
  },
  {
   "cell_type": "markdown",
   "id": "5521e8e7",
   "metadata": {},
   "source": [
    "In this notebook, Data Science Tools and Ecosystem are summarized."
   ]
  },
  {
   "cell_type": "markdown",
   "id": "3b2dd424",
   "metadata": {},
   "source": [
    "Some of the popular languages that Data Scientists use are:\n",
    "1. SQL\n",
    "2. Python\n",
    "3. JAVA\n",
    "4. R\n",
    "5. Julia\n",
    "6. Scala\n"
   ]
  },
  {
   "cell_type": "markdown",
   "id": "52bd881e",
   "metadata": {},
   "source": [
    "Some of the commonly used libraries used by Data Scientists include:\n",
    "1. Panda\n",
    "2. NumPy\n",
    "3.Matplotlib\n",
    "4. TensorFlow\n",
    "5. Seaborn"
   ]
  },
  {
   "cell_type": "markdown",
   "id": "e02cd7a3",
   "metadata": {},
   "source": [
    "| Data Science Tools\n",
    "------------------------\n",
    "| R Studio\n",
    "| Anaconda\n",
    "| Jupyter Notebooks\n"
   ]
  },
  {
   "cell_type": "markdown",
   "id": "17139808",
   "metadata": {},
   "source": [
    "# Below are a few examples of evaluating arithmetic expressions in Python\n"
   ]
  },
  {
   "cell_type": "code",
   "execution_count": 4,
   "id": "6cd395eb",
   "metadata": {},
   "outputs": [
    {
     "data": {
      "text/plain": [
       "17"
      ]
     },
     "execution_count": 4,
     "metadata": {},
     "output_type": "execute_result"
    }
   ],
   "source": [
    "# This a simple arithmetic expression to mutiply then add integers\n",
    "(3*4)+5"
   ]
  },
  {
   "cell_type": "code",
   "execution_count": 3,
   "id": "40d54704",
   "metadata": {},
   "outputs": [
    {
     "data": {
      "text/plain": [
       "3.3333333333333335"
      ]
     },
     "execution_count": 3,
     "metadata": {},
     "output_type": "execute_result"
    }
   ],
   "source": [
    "#This will convert 200 minutes to hours by diving by 60\n",
    "200/60"
   ]
  },
  {
   "cell_type": "markdown",
   "id": "f3ae4e17",
   "metadata": {},
   "source": [
    "**Objectives:**\n",
    "Describe the components of data science tool kits.\n",
    "List examples of Open Source Tools used in the course.\n",
    "List common lanuages used in the Data science.\n",
    "\n"
   ]
  },
  {
   "cell_type": "markdown",
   "id": "edae92d9",
   "metadata": {},
   "source": [
    "## Author\n",
    "Shibasis Bhowmik"
   ]
  }
 ],
 "metadata": {
  "celltoolbar": "Raw Cell Format",
  "kernelspec": {
   "display_name": "Python 3 (ipykernel)",
   "language": "python",
   "name": "python3"
  },
  "language_info": {
   "codemirror_mode": {
    "name": "ipython",
    "version": 3
   },
   "file_extension": ".py",
   "mimetype": "text/x-python",
   "name": "python",
   "nbconvert_exporter": "python",
   "pygments_lexer": "ipython3",
   "version": "3.11.7"
  }
 },
 "nbformat": 4,
 "nbformat_minor": 5
}
